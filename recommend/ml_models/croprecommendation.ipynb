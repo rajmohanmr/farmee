{
  "cells": [
    {
      "cell_type": "code",
      "execution_count": 133,
      "metadata": {
        "execution": {
          "iopub.execute_input": "2024-10-22T07:10:28.270671Z",
          "iopub.status.busy": "2024-10-22T07:10:28.270201Z",
          "iopub.status.idle": "2024-10-22T07:10:28.672524Z",
          "shell.execute_reply": "2024-10-22T07:10:28.671339Z",
          "shell.execute_reply.started": "2024-10-22T07:10:28.270619Z"
        },
        "id": "A494xb5DZHem",
        "trusted": true
      },
      "outputs": [],
      "source": [
        "import pandas as pd\n",
        "import numpy as np"
      ]
    },
    {
      "cell_type": "code",
      "execution_count": 134,
      "metadata": {
        "execution": {
          "iopub.execute_input": "2024-10-22T07:10:30.742824Z",
          "iopub.status.busy": "2024-10-22T07:10:30.742239Z",
          "iopub.status.idle": "2024-10-22T07:10:30.749120Z",
          "shell.execute_reply": "2024-10-22T07:10:30.747706Z",
          "shell.execute_reply.started": "2024-10-22T07:10:30.742781Z"
        },
        "id": "wlBoGWV3ZHeo",
        "trusted": true
      },
      "outputs": [],
      "source": [
        "import warnings\n",
        "warnings.filterwarnings('ignore')"
      ]
    },
    {
      "cell_type": "code",
      "execution_count": 135,
      "metadata": {
        "execution": {
          "iopub.execute_input": "2024-10-22T07:10:33.066411Z",
          "iopub.status.busy": "2024-10-22T07:10:33.066013Z",
          "iopub.status.idle": "2024-10-22T07:10:33.089941Z",
          "shell.execute_reply": "2024-10-22T07:10:33.088894Z",
          "shell.execute_reply.started": "2024-10-22T07:10:33.066370Z"
        },
        "id": "fvY4mSsHZHep",
        "trusted": true
      },
      "outputs": [],
      "source": [
        "crop = pd.read_csv(r'C:\\Projects\\Farmee\\Farmee\\cropprediction.csv')"
      ]
    },
    {
      "cell_type": "code",
      "execution_count": 136,
      "metadata": {
        "colab": {
          "base_uri": "https://localhost:8080/",
          "height": 206
        },
        "execution": {
          "iopub.execute_input": "2024-10-22T07:10:34.853051Z",
          "iopub.status.busy": "2024-10-22T07:10:34.852637Z",
          "iopub.status.idle": "2024-10-22T07:10:34.883486Z",
          "shell.execute_reply": "2024-10-22T07:10:34.882347Z",
          "shell.execute_reply.started": "2024-10-22T07:10:34.853008Z"
        },
        "id": "lYzBEzH7ZHep",
        "outputId": "b85003fe-7879-487a-a749-4a0bcf7f52ce",
        "trusted": true
      },
      "outputs": [
        {
          "data": {
            "text/html": [
              "<div>\n",
              "<style scoped>\n",
              "    .dataframe tbody tr th:only-of-type {\n",
              "        vertical-align: middle;\n",
              "    }\n",
              "\n",
              "    .dataframe tbody tr th {\n",
              "        vertical-align: top;\n",
              "    }\n",
              "\n",
              "    .dataframe thead th {\n",
              "        text-align: right;\n",
              "    }\n",
              "</style>\n",
              "<table border=\"1\" class=\"dataframe\">\n",
              "  <thead>\n",
              "    <tr style=\"text-align: right;\">\n",
              "      <th></th>\n",
              "      <th>N</th>\n",
              "      <th>P</th>\n",
              "      <th>K</th>\n",
              "      <th>temperature</th>\n",
              "      <th>humidity</th>\n",
              "      <th>ph</th>\n",
              "      <th>rainfall</th>\n",
              "      <th>label</th>\n",
              "    </tr>\n",
              "  </thead>\n",
              "  <tbody>\n",
              "    <tr>\n",
              "      <th>0</th>\n",
              "      <td>90</td>\n",
              "      <td>42</td>\n",
              "      <td>43</td>\n",
              "      <td>20.879744</td>\n",
              "      <td>82.002744</td>\n",
              "      <td>6.502985</td>\n",
              "      <td>202.935536</td>\n",
              "      <td>rice</td>\n",
              "    </tr>\n",
              "    <tr>\n",
              "      <th>1</th>\n",
              "      <td>85</td>\n",
              "      <td>58</td>\n",
              "      <td>41</td>\n",
              "      <td>21.770462</td>\n",
              "      <td>80.319644</td>\n",
              "      <td>7.038096</td>\n",
              "      <td>226.655537</td>\n",
              "      <td>rice</td>\n",
              "    </tr>\n",
              "    <tr>\n",
              "      <th>2</th>\n",
              "      <td>60</td>\n",
              "      <td>55</td>\n",
              "      <td>44</td>\n",
              "      <td>23.004459</td>\n",
              "      <td>82.320763</td>\n",
              "      <td>7.840207</td>\n",
              "      <td>263.964248</td>\n",
              "      <td>rice</td>\n",
              "    </tr>\n",
              "    <tr>\n",
              "      <th>3</th>\n",
              "      <td>74</td>\n",
              "      <td>35</td>\n",
              "      <td>40</td>\n",
              "      <td>26.491096</td>\n",
              "      <td>80.158363</td>\n",
              "      <td>6.980401</td>\n",
              "      <td>242.864034</td>\n",
              "      <td>rice</td>\n",
              "    </tr>\n",
              "    <tr>\n",
              "      <th>4</th>\n",
              "      <td>78</td>\n",
              "      <td>42</td>\n",
              "      <td>42</td>\n",
              "      <td>20.130175</td>\n",
              "      <td>81.604873</td>\n",
              "      <td>7.628473</td>\n",
              "      <td>262.717340</td>\n",
              "      <td>rice</td>\n",
              "    </tr>\n",
              "  </tbody>\n",
              "</table>\n",
              "</div>"
            ],
            "text/plain": [
              "    N   P   K  temperature   humidity        ph    rainfall label\n",
              "0  90  42  43    20.879744  82.002744  6.502985  202.935536  rice\n",
              "1  85  58  41    21.770462  80.319644  7.038096  226.655537  rice\n",
              "2  60  55  44    23.004459  82.320763  7.840207  263.964248  rice\n",
              "3  74  35  40    26.491096  80.158363  6.980401  242.864034  rice\n",
              "4  78  42  42    20.130175  81.604873  7.628473  262.717340  rice"
            ]
          },
          "execution_count": 136,
          "metadata": {},
          "output_type": "execute_result"
        }
      ],
      "source": [
        "crop.head()"
      ]
    },
    {
      "cell_type": "code",
      "execution_count": 137,
      "metadata": {
        "colab": {
          "base_uri": "https://localhost:8080/"
        },
        "execution": {
          "iopub.execute_input": "2024-10-22T07:10:37.589574Z",
          "iopub.status.busy": "2024-10-22T07:10:37.588755Z",
          "iopub.status.idle": "2024-10-22T07:10:37.595760Z",
          "shell.execute_reply": "2024-10-22T07:10:37.594646Z",
          "shell.execute_reply.started": "2024-10-22T07:10:37.589519Z"
        },
        "id": "GfBdLu3hZHeq",
        "outputId": "09c5f3e3-bf7d-43a5-d68e-f1033059506c",
        "trusted": true
      },
      "outputs": [
        {
          "data": {
            "text/plain": [
              "(1100, 8)"
            ]
          },
          "execution_count": 137,
          "metadata": {},
          "output_type": "execute_result"
        }
      ],
      "source": [
        "crop.shape"
      ]
    },
    {
      "cell_type": "code",
      "execution_count": 138,
      "metadata": {
        "colab": {
          "base_uri": "https://localhost:8080/"
        },
        "execution": {
          "iopub.execute_input": "2024-10-22T07:10:40.940602Z",
          "iopub.status.busy": "2024-10-22T07:10:40.940182Z",
          "iopub.status.idle": "2024-10-22T07:10:40.966880Z",
          "shell.execute_reply": "2024-10-22T07:10:40.965301Z",
          "shell.execute_reply.started": "2024-10-22T07:10:40.940548Z"
        },
        "id": "StPhAmuoZHer",
        "outputId": "a917f3ea-bc00-4753-8841-dd332f62b0e0",
        "trusted": true
      },
      "outputs": [
        {
          "name": "stdout",
          "output_type": "stream",
          "text": [
            "<class 'pandas.core.frame.DataFrame'>\n",
            "RangeIndex: 1100 entries, 0 to 1099\n",
            "Data columns (total 8 columns):\n",
            " #   Column       Non-Null Count  Dtype  \n",
            "---  ------       --------------  -----  \n",
            " 0   N            1100 non-null   int64  \n",
            " 1   P            1100 non-null   int64  \n",
            " 2   K            1100 non-null   int64  \n",
            " 3   temperature  1100 non-null   float64\n",
            " 4   humidity     1100 non-null   float64\n",
            " 5   ph           1100 non-null   float64\n",
            " 6   rainfall     1100 non-null   float64\n",
            " 7   label        1100 non-null   object \n",
            "dtypes: float64(4), int64(3), object(1)\n",
            "memory usage: 68.9+ KB\n"
          ]
        }
      ],
      "source": [
        "crop.info()"
      ]
    },
    {
      "cell_type": "code",
      "execution_count": 139,
      "metadata": {
        "colab": {
          "base_uri": "https://localhost:8080/",
          "height": 335
        },
        "execution": {
          "iopub.execute_input": "2024-10-22T07:10:44.932951Z",
          "iopub.status.busy": "2024-10-22T07:10:44.932575Z",
          "iopub.status.idle": "2024-10-22T07:10:44.942231Z",
          "shell.execute_reply": "2024-10-22T07:10:44.941046Z",
          "shell.execute_reply.started": "2024-10-22T07:10:44.932915Z"
        },
        "id": "hJN8BpFUZHer",
        "outputId": "72b93cfc-a486-4e57-b6d1-2d03b753e2c8",
        "trusted": true
      },
      "outputs": [
        {
          "data": {
            "text/plain": [
              "N              0\n",
              "P              0\n",
              "K              0\n",
              "temperature    0\n",
              "humidity       0\n",
              "ph             0\n",
              "rainfall       0\n",
              "label          0\n",
              "dtype: int64"
            ]
          },
          "execution_count": 139,
          "metadata": {},
          "output_type": "execute_result"
        }
      ],
      "source": [
        "crop.isnull().sum()"
      ]
    },
    {
      "cell_type": "code",
      "execution_count": 140,
      "metadata": {
        "colab": {
          "base_uri": "https://localhost:8080/"
        },
        "execution": {
          "iopub.execute_input": "2024-10-22T07:10:55.418952Z",
          "iopub.status.busy": "2024-10-22T07:10:55.418541Z",
          "iopub.status.idle": "2024-10-22T07:10:55.428869Z",
          "shell.execute_reply": "2024-10-22T07:10:55.427770Z",
          "shell.execute_reply.started": "2024-10-22T07:10:55.418912Z"
        },
        "id": "VCJkA6cMZHer",
        "outputId": "a0135bb2-7e46-46b2-cc5a-8ca98833d223",
        "trusted": true
      },
      "outputs": [
        {
          "data": {
            "text/plain": [
              "np.int64(0)"
            ]
          },
          "execution_count": 140,
          "metadata": {},
          "output_type": "execute_result"
        }
      ],
      "source": [
        "crop.duplicated().sum()"
      ]
    },
    {
      "cell_type": "code",
      "execution_count": 141,
      "metadata": {
        "colab": {
          "base_uri": "https://localhost:8080/",
          "height": 300
        },
        "execution": {
          "iopub.execute_input": "2024-10-22T07:10:59.526084Z",
          "iopub.status.busy": "2024-10-22T07:10:59.525590Z",
          "iopub.status.idle": "2024-10-22T07:10:59.560523Z",
          "shell.execute_reply": "2024-10-22T07:10:59.559266Z",
          "shell.execute_reply.started": "2024-10-22T07:10:59.525964Z"
        },
        "id": "M-jo92nrZHes",
        "outputId": "c42934ee-66f5-4d0d-fc62-94baede6350e",
        "trusted": true
      },
      "outputs": [
        {
          "data": {
            "text/html": [
              "<div>\n",
              "<style scoped>\n",
              "    .dataframe tbody tr th:only-of-type {\n",
              "        vertical-align: middle;\n",
              "    }\n",
              "\n",
              "    .dataframe tbody tr th {\n",
              "        vertical-align: top;\n",
              "    }\n",
              "\n",
              "    .dataframe thead th {\n",
              "        text-align: right;\n",
              "    }\n",
              "</style>\n",
              "<table border=\"1\" class=\"dataframe\">\n",
              "  <thead>\n",
              "    <tr style=\"text-align: right;\">\n",
              "      <th></th>\n",
              "      <th>N</th>\n",
              "      <th>P</th>\n",
              "      <th>K</th>\n",
              "      <th>temperature</th>\n",
              "      <th>humidity</th>\n",
              "      <th>ph</th>\n",
              "      <th>rainfall</th>\n",
              "    </tr>\n",
              "  </thead>\n",
              "  <tbody>\n",
              "    <tr>\n",
              "      <th>count</th>\n",
              "      <td>1100.000000</td>\n",
              "      <td>1100.000000</td>\n",
              "      <td>1100.000000</td>\n",
              "      <td>1100.000000</td>\n",
              "      <td>1100.000000</td>\n",
              "      <td>1100.000000</td>\n",
              "      <td>1100.000000</td>\n",
              "    </tr>\n",
              "    <tr>\n",
              "      <th>mean</th>\n",
              "      <td>59.138182</td>\n",
              "      <td>48.968182</td>\n",
              "      <td>29.923636</td>\n",
              "      <td>27.415288</td>\n",
              "      <td>72.956435</td>\n",
              "      <td>6.408545</td>\n",
              "      <td>122.073067</td>\n",
              "    </tr>\n",
              "    <tr>\n",
              "      <th>std</th>\n",
              "      <td>37.572726</td>\n",
              "      <td>20.103506</td>\n",
              "      <td>11.805660</td>\n",
              "      <td>4.485250</td>\n",
              "      <td>16.240100</td>\n",
              "      <td>0.688040</td>\n",
              "      <td>59.798816</td>\n",
              "    </tr>\n",
              "    <tr>\n",
              "      <th>min</th>\n",
              "      <td>0.000000</td>\n",
              "      <td>5.000000</td>\n",
              "      <td>15.000000</td>\n",
              "      <td>18.041855</td>\n",
              "      <td>30.400468</td>\n",
              "      <td>4.507524</td>\n",
              "      <td>36.120429</td>\n",
              "    </tr>\n",
              "    <tr>\n",
              "      <th>25%</th>\n",
              "      <td>27.000000</td>\n",
              "      <td>35.000000</td>\n",
              "      <td>20.000000</td>\n",
              "      <td>24.653419</td>\n",
              "      <td>60.488011</td>\n",
              "      <td>5.950657</td>\n",
              "      <td>74.119955</td>\n",
              "    </tr>\n",
              "    <tr>\n",
              "      <th>50%</th>\n",
              "      <td>56.000000</td>\n",
              "      <td>50.000000</td>\n",
              "      <td>26.000000</td>\n",
              "      <td>27.132002</td>\n",
              "      <td>77.457230</td>\n",
              "      <td>6.456916</td>\n",
              "      <td>100.088416</td>\n",
              "    </tr>\n",
              "    <tr>\n",
              "      <th>75%</th>\n",
              "      <td>93.000000</td>\n",
              "      <td>63.000000</td>\n",
              "      <td>38.000000</td>\n",
              "      <td>29.384181</td>\n",
              "      <td>84.640721</td>\n",
              "      <td>6.880292</td>\n",
              "      <td>165.758277</td>\n",
              "    </tr>\n",
              "    <tr>\n",
              "      <th>max</th>\n",
              "      <td>140.000000</td>\n",
              "      <td>95.000000</td>\n",
              "      <td>55.000000</td>\n",
              "      <td>43.675493</td>\n",
              "      <td>99.981876</td>\n",
              "      <td>7.994680</td>\n",
              "      <td>298.560117</td>\n",
              "    </tr>\n",
              "  </tbody>\n",
              "</table>\n",
              "</div>"
            ],
            "text/plain": [
              "                 N            P            K  temperature     humidity  \\\n",
              "count  1100.000000  1100.000000  1100.000000  1100.000000  1100.000000   \n",
              "mean     59.138182    48.968182    29.923636    27.415288    72.956435   \n",
              "std      37.572726    20.103506    11.805660     4.485250    16.240100   \n",
              "min       0.000000     5.000000    15.000000    18.041855    30.400468   \n",
              "25%      27.000000    35.000000    20.000000    24.653419    60.488011   \n",
              "50%      56.000000    50.000000    26.000000    27.132002    77.457230   \n",
              "75%      93.000000    63.000000    38.000000    29.384181    84.640721   \n",
              "max     140.000000    95.000000    55.000000    43.675493    99.981876   \n",
              "\n",
              "                ph     rainfall  \n",
              "count  1100.000000  1100.000000  \n",
              "mean      6.408545   122.073067  \n",
              "std       0.688040    59.798816  \n",
              "min       4.507524    36.120429  \n",
              "25%       5.950657    74.119955  \n",
              "50%       6.456916   100.088416  \n",
              "75%       6.880292   165.758277  \n",
              "max       7.994680   298.560117  "
            ]
          },
          "execution_count": 141,
          "metadata": {},
          "output_type": "execute_result"
        }
      ],
      "source": [
        "crop.describe()"
      ]
    },
    {
      "cell_type": "code",
      "execution_count": 142,
      "metadata": {
        "colab": {
          "base_uri": "https://localhost:8080/",
          "height": 269
        },
        "execution": {
          "iopub.execute_input": "2024-10-22T07:11:04.879581Z",
          "iopub.status.busy": "2024-10-22T07:11:04.879141Z",
          "iopub.status.idle": "2024-10-22T07:11:04.897019Z",
          "shell.execute_reply": "2024-10-22T07:11:04.895803Z",
          "shell.execute_reply.started": "2024-10-22T07:11:04.879527Z"
        },
        "id": "ICHy--41ZHes",
        "outputId": "71c92a88-8e28-4ad7-a3b1-8ad8cf2cc823",
        "trusted": true
      },
      "outputs": [
        {
          "data": {
            "text/html": [
              "<div>\n",
              "<style scoped>\n",
              "    .dataframe tbody tr th:only-of-type {\n",
              "        vertical-align: middle;\n",
              "    }\n",
              "\n",
              "    .dataframe tbody tr th {\n",
              "        vertical-align: top;\n",
              "    }\n",
              "\n",
              "    .dataframe thead th {\n",
              "        text-align: right;\n",
              "    }\n",
              "</style>\n",
              "<table border=\"1\" class=\"dataframe\">\n",
              "  <thead>\n",
              "    <tr style=\"text-align: right;\">\n",
              "      <th></th>\n",
              "      <th>N</th>\n",
              "      <th>P</th>\n",
              "      <th>K</th>\n",
              "      <th>temperature</th>\n",
              "      <th>humidity</th>\n",
              "      <th>ph</th>\n",
              "      <th>rainfall</th>\n",
              "    </tr>\n",
              "  </thead>\n",
              "  <tbody>\n",
              "    <tr>\n",
              "      <th>N</th>\n",
              "      <td>1.000000</td>\n",
              "      <td>0.145389</td>\n",
              "      <td>0.199864</td>\n",
              "      <td>-0.399860</td>\n",
              "      <td>0.105910</td>\n",
              "      <td>0.210743</td>\n",
              "      <td>0.063593</td>\n",
              "    </tr>\n",
              "    <tr>\n",
              "      <th>P</th>\n",
              "      <td>0.145389</td>\n",
              "      <td>1.000000</td>\n",
              "      <td>0.193801</td>\n",
              "      <td>0.080058</td>\n",
              "      <td>-0.039818</td>\n",
              "      <td>0.065970</td>\n",
              "      <td>-0.196584</td>\n",
              "    </tr>\n",
              "    <tr>\n",
              "      <th>K</th>\n",
              "      <td>0.199864</td>\n",
              "      <td>0.193801</td>\n",
              "      <td>1.000000</td>\n",
              "      <td>0.221192</td>\n",
              "      <td>0.405862</td>\n",
              "      <td>-0.114256</td>\n",
              "      <td>0.392442</td>\n",
              "    </tr>\n",
              "    <tr>\n",
              "      <th>temperature</th>\n",
              "      <td>-0.399860</td>\n",
              "      <td>0.080058</td>\n",
              "      <td>0.221192</td>\n",
              "      <td>1.000000</td>\n",
              "      <td>0.035224</td>\n",
              "      <td>0.023141</td>\n",
              "      <td>-0.117051</td>\n",
              "    </tr>\n",
              "    <tr>\n",
              "      <th>humidity</th>\n",
              "      <td>0.105910</td>\n",
              "      <td>-0.039818</td>\n",
              "      <td>0.405862</td>\n",
              "      <td>0.035224</td>\n",
              "      <td>1.000000</td>\n",
              "      <td>0.179481</td>\n",
              "      <td>0.138950</td>\n",
              "    </tr>\n",
              "    <tr>\n",
              "      <th>ph</th>\n",
              "      <td>0.210743</td>\n",
              "      <td>0.065970</td>\n",
              "      <td>-0.114256</td>\n",
              "      <td>0.023141</td>\n",
              "      <td>0.179481</td>\n",
              "      <td>1.000000</td>\n",
              "      <td>-0.147838</td>\n",
              "    </tr>\n",
              "    <tr>\n",
              "      <th>rainfall</th>\n",
              "      <td>0.063593</td>\n",
              "      <td>-0.196584</td>\n",
              "      <td>0.392442</td>\n",
              "      <td>-0.117051</td>\n",
              "      <td>0.138950</td>\n",
              "      <td>-0.147838</td>\n",
              "      <td>1.000000</td>\n",
              "    </tr>\n",
              "  </tbody>\n",
              "</table>\n",
              "</div>"
            ],
            "text/plain": [
              "                    N         P         K  temperature  humidity        ph  \\\n",
              "N            1.000000  0.145389  0.199864    -0.399860  0.105910  0.210743   \n",
              "P            0.145389  1.000000  0.193801     0.080058 -0.039818  0.065970   \n",
              "K            0.199864  0.193801  1.000000     0.221192  0.405862 -0.114256   \n",
              "temperature -0.399860  0.080058  0.221192     1.000000  0.035224  0.023141   \n",
              "humidity     0.105910 -0.039818  0.405862     0.035224  1.000000  0.179481   \n",
              "ph           0.210743  0.065970 -0.114256     0.023141  0.179481  1.000000   \n",
              "rainfall     0.063593 -0.196584  0.392442    -0.117051  0.138950 -0.147838   \n",
              "\n",
              "             rainfall  \n",
              "N            0.063593  \n",
              "P           -0.196584  \n",
              "K            0.392442  \n",
              "temperature -0.117051  \n",
              "humidity     0.138950  \n",
              "ph          -0.147838  \n",
              "rainfall     1.000000  "
            ]
          },
          "execution_count": 142,
          "metadata": {},
          "output_type": "execute_result"
        }
      ],
      "source": [
        "corr=crop.corr(numeric_only=True)\n",
        "corr"
      ]
    },
    {
      "cell_type": "code",
      "execution_count": 143,
      "metadata": {
        "colab": {
          "base_uri": "https://localhost:8080/",
          "height": 526
        },
        "execution": {
          "iopub.execute_input": "2024-10-22T07:11:10.951771Z",
          "iopub.status.busy": "2024-10-22T07:11:10.951362Z",
          "iopub.status.idle": "2024-10-22T07:11:12.360119Z",
          "shell.execute_reply": "2024-10-22T07:11:12.358885Z",
          "shell.execute_reply.started": "2024-10-22T07:11:10.951732Z"
        },
        "id": "FPIZCXGQZHes",
        "outputId": "cd070d69-550c-437b-f525-bb5af2660976",
        "trusted": true
      },
      "outputs": [
        {
          "data": {
            "text/plain": [
              "<Axes: >"
            ]
          },
          "execution_count": 143,
          "metadata": {},
          "output_type": "execute_result"
        },
        {
          "data": {
            "image/png": "[encoded data removed]",
            "text/plain": [
              "<Figure size 640x480 with 2 Axes>"
            ]
          },
          "metadata": {},
          "output_type": "display_data"
        }
      ],
      "source": [
        "import seaborn as sns\n",
        "sns.heatmap(corr, annot=True, cbar= True)"
      ]
    },
    {
      "cell_type": "code",
      "execution_count": 144,
      "metadata": {
        "colab": {
          "base_uri": "https://localhost:8080/",
          "height": 460
        },
        "execution": {
          "iopub.execute_input": "2024-10-22T07:11:21.673531Z",
          "iopub.status.busy": "2024-10-22T07:11:21.672969Z",
          "iopub.status.idle": "2024-10-22T07:11:21.682463Z",
          "shell.execute_reply": "2024-10-22T07:11:21.681375Z",
          "shell.execute_reply.started": "2024-10-22T07:11:21.673489Z"
        },
        "id": "Xj10OUhPZHet",
        "outputId": "4808a97c-8c43-462a-a885-6a1c141aca30",
        "trusted": true
      },
      "outputs": [
        {
          "data": {
            "text/plain": [
              "label\n",
              "rice          100\n",
              "maize         100\n",
              "pigeonpeas    100\n",
              "mungbean      100\n",
              "blackgram     100\n",
              "banana        100\n",
              "mango         100\n",
              "papaya        100\n",
              "coconut       100\n",
              "cotton        100\n",
              "coffee        100\n",
              "Name: count, dtype: int64"
            ]
          },
          "execution_count": 144,
          "metadata": {},
          "output_type": "execute_result"
        }
      ],
      "source": [
        "crop.label.value_counts()"
      ]
    },
    {
      "cell_type": "code",
      "execution_count": 145,
      "metadata": {
        "colab": {
          "base_uri": "https://localhost:8080/"
        },
        "execution": {
          "iopub.execute_input": "2024-10-22T07:11:25.207238Z",
          "iopub.status.busy": "2024-10-22T07:11:25.206868Z",
          "iopub.status.idle": "2024-10-22T07:11:25.214872Z",
          "shell.execute_reply": "2024-10-22T07:11:25.213447Z",
          "shell.execute_reply.started": "2024-10-22T07:11:25.207202Z"
        },
        "id": "ib6USpxMZHet",
        "outputId": "ed4cf196-70c4-4194-89a2-ab1e01561e71",
        "trusted": true
      },
      "outputs": [
        {
          "data": {
            "text/plain": [
              "array(['rice', 'maize', 'pigeonpeas', 'mungbean', 'blackgram', 'banana',\n",
              "       'mango', 'papaya', 'coconut', 'cotton', 'coffee'], dtype=object)"
            ]
          },
          "execution_count": 145,
          "metadata": {},
          "output_type": "execute_result"
        }
      ],
      "source": [
        "crop['label'].unique()"
      ]
    },
    {
      "cell_type": "code",
      "execution_count": 146,
      "metadata": {
        "colab": {
          "base_uri": "https://localhost:8080/"
        },
        "execution": {
          "iopub.execute_input": "2024-10-22T07:11:27.903786Z",
          "iopub.status.busy": "2024-10-22T07:11:27.903213Z",
          "iopub.status.idle": "2024-10-22T07:11:27.912923Z",
          "shell.execute_reply": "2024-10-22T07:11:27.911572Z",
          "shell.execute_reply.started": "2024-10-22T07:11:27.903729Z"
        },
        "id": "ro3NKtunZHet",
        "outputId": "743996ec-737d-4a5f-a982-7f51d1e4bc89",
        "trusted": true
      },
      "outputs": [
        {
          "data": {
            "text/plain": [
              "11"
            ]
          },
          "execution_count": 146,
          "metadata": {},
          "output_type": "execute_result"
        }
      ],
      "source": [
        "crop['label'].unique().size"
      ]
    },
    {
      "cell_type": "code",
      "execution_count": 147,
      "metadata": {
        "colab": {
          "base_uri": "https://localhost:8080/",
          "height": 449
        },
        "execution": {
          "iopub.execute_input": "2024-10-22T07:11:31.425680Z",
          "iopub.status.busy": "2024-10-22T07:11:31.425259Z",
          "iopub.status.idle": "2024-10-22T07:11:32.645436Z",
          "shell.execute_reply": "2024-10-22T07:11:32.643977Z",
          "shell.execute_reply.started": "2024-10-22T07:11:31.425637Z"
        },
        "id": "q5llNNefZHet",
        "outputId": "3e1a1d09-c46f-4a35-d604-a2181e3e9d5f",
        "trusted": true
      },
      "outputs": [
        {
          "data": {
            "image/png": "[encoded data removed]",
            "text/plain": [
              "<Figure size 640x480 with 1 Axes>"
            ]
          },
          "metadata": {},
          "output_type": "display_data"
        }
      ],
      "source": [
        "import matplotlib.pyplot as plt\n",
        "sns.distplot(crop['P'])\n",
        "plt.show()"
      ]
    },
    {
      "cell_type": "code",
      "execution_count": 148,
      "metadata": {
        "colab": {
          "base_uri": "https://localhost:8080/",
          "height": 449
        },
        "execution": {
          "iopub.execute_input": "2024-10-22T07:11:47.512132Z",
          "iopub.status.busy": "2024-10-22T07:11:47.511711Z",
          "iopub.status.idle": "2024-10-22T07:11:47.592595Z",
          "shell.execute_reply": "2024-10-22T07:11:47.591161Z",
          "shell.execute_reply.started": "2024-10-22T07:11:47.512092Z"
        },
        "id": "b7n0eZizZHeu",
        "outputId": "d20a0e59-6d98-4744-f80f-5af8866dc8bc",
        "trusted": true
      },
      "outputs": [
        {
          "data": {
            "image/png": "[encoded data removed]",
            "text/plain": [
              "<Figure size 640x480 with 1 Axes>"
            ]
          },
          "metadata": {},
          "output_type": "display_data"
        }
      ],
      "source": [
        "import matplotlib.pyplot as plt\n",
        "sns.distplot(crop['N'])\n",
        "plt.show()"
      ]
    },
    {
      "cell_type": "code",
      "execution_count": 149,
      "metadata": {
        "colab": {
          "base_uri": "https://localhost:8080/"
        },
        "execution": {
          "iopub.execute_input": "2024-10-22T07:11:50.639425Z",
          "iopub.status.busy": "2024-10-22T07:11:50.639018Z",
          "iopub.status.idle": "2024-10-22T07:11:50.647173Z",
          "shell.execute_reply": "2024-10-22T07:11:50.646037Z",
          "shell.execute_reply.started": "2024-10-22T07:11:50.639386Z"
        },
        "id": "jvSFS_eCZHeu",
        "outputId": "9f77f015-5744-429d-bae3-c2a8a37dfd07",
        "trusted": true
      },
      "outputs": [
        {
          "data": {
            "text/plain": [
              "array(['rice', 'maize', 'pigeonpeas', 'mungbean', 'blackgram', 'banana',\n",
              "       'mango', 'papaya', 'coconut', 'cotton', 'coffee'], dtype=object)"
            ]
          },
          "execution_count": 149,
          "metadata": {},
          "output_type": "execute_result"
        }
      ],
      "source": [
        "crop['label'].unique()"
      ]
    },
    {
      "cell_type": "code",
      "execution_count": 150,
      "metadata": {
        "execution": {
          "iopub.execute_input": "2024-10-22T07:11:53.168534Z",
          "iopub.status.busy": "2024-10-22T07:11:53.167328Z",
          "iopub.status.idle": "2024-10-22T07:11:53.176441Z",
          "shell.execute_reply": "2024-10-22T07:11:53.175257Z",
          "shell.execute_reply.started": "2024-10-22T07:11:53.168484Z"
        },
        "id": "1r77fApfZHeu",
        "trusted": true
      },
      "outputs": [],
      "source": [
        "crop_dict={\n",
        "    'rice': 1,\n",
        "    'maize': 2,\n",
        "    'pigeonpeas': 3,\n",
        "    'mungbean': 4,\n",
        "    'blackgram': 5,\n",
        "    'banana': 6,\n",
        "    'mango': 7,\n",
        "    'papaya': 8,\n",
        "    'coconut': 9,\n",
        "    'cotton': 10,\n",
        "    'coffee':11\n",
        "}\n",
        "\n",
        "crop['label'] = crop['label'].map(crop_dict)"
      ]
    },
    {
      "cell_type": "code",
      "execution_count": 151,
      "metadata": {
        "colab": {
          "base_uri": "https://localhost:8080/",
          "height": 206
        },
        "execution": {
          "iopub.execute_input": "2024-10-22T07:11:59.264806Z",
          "iopub.status.busy": "2024-10-22T07:11:59.263586Z",
          "iopub.status.idle": "2024-10-22T07:11:59.279229Z",
          "shell.execute_reply": "2024-10-22T07:11:59.277904Z",
          "shell.execute_reply.started": "2024-10-22T07:11:59.264756Z"
        },
        "id": "5l8iLOKdZHeu",
        "outputId": "7030a64d-c9be-4917-8d3c-d4f5be5a8883",
        "trusted": true
      },
      "outputs": [
        {
          "data": {
            "text/html": [
              "<div>\n",
              "<style scoped>\n",
              "    .dataframe tbody tr th:only-of-type {\n",
              "        vertical-align: middle;\n",
              "    }\n",
              "\n",
              "    .dataframe tbody tr th {\n",
              "        vertical-align: top;\n",
              "    }\n",
              "\n",
              "    .dataframe thead th {\n",
              "        text-align: right;\n",
              "    }\n",
              "</style>\n",
              "<table border=\"1\" class=\"dataframe\">\n",
              "  <thead>\n",
              "    <tr style=\"text-align: right;\">\n",
              "      <th></th>\n",
              "      <th>N</th>\n",
              "      <th>P</th>\n",
              "      <th>K</th>\n",
              "      <th>temperature</th>\n",
              "      <th>humidity</th>\n",
              "      <th>ph</th>\n",
              "      <th>rainfall</th>\n",
              "      <th>label</th>\n",
              "    </tr>\n",
              "  </thead>\n",
              "  <tbody>\n",
              "    <tr>\n",
              "      <th>0</th>\n",
              "      <td>90</td>\n",
              "      <td>42</td>\n",
              "      <td>43</td>\n",
              "      <td>20.879744</td>\n",
              "      <td>82.002744</td>\n",
              "      <td>6.502985</td>\n",
              "      <td>202.935536</td>\n",
              "      <td>1</td>\n",
              "    </tr>\n",
              "    <tr>\n",
              "      <th>1</th>\n",
              "      <td>85</td>\n",
              "      <td>58</td>\n",
              "      <td>41</td>\n",
              "      <td>21.770462</td>\n",
              "      <td>80.319644</td>\n",
              "      <td>7.038096</td>\n",
              "      <td>226.655537</td>\n",
              "      <td>1</td>\n",
              "    </tr>\n",
              "    <tr>\n",
              "      <th>2</th>\n",
              "      <td>60</td>\n",
              "      <td>55</td>\n",
              "      <td>44</td>\n",
              "      <td>23.004459</td>\n",
              "      <td>82.320763</td>\n",
              "      <td>7.840207</td>\n",
              "      <td>263.964248</td>\n",
              "      <td>1</td>\n",
              "    </tr>\n",
              "    <tr>\n",
              "      <th>3</th>\n",
              "      <td>74</td>\n",
              "      <td>35</td>\n",
              "      <td>40</td>\n",
              "      <td>26.491096</td>\n",
              "      <td>80.158363</td>\n",
              "      <td>6.980401</td>\n",
              "      <td>242.864034</td>\n",
              "      <td>1</td>\n",
              "    </tr>\n",
              "    <tr>\n",
              "      <th>4</th>\n",
              "      <td>78</td>\n",
              "      <td>42</td>\n",
              "      <td>42</td>\n",
              "      <td>20.130175</td>\n",
              "      <td>81.604873</td>\n",
              "      <td>7.628473</td>\n",
              "      <td>262.717340</td>\n",
              "      <td>1</td>\n",
              "    </tr>\n",
              "  </tbody>\n",
              "</table>\n",
              "</div>"
            ],
            "text/plain": [
              "    N   P   K  temperature   humidity        ph    rainfall  label\n",
              "0  90  42  43    20.879744  82.002744  6.502985  202.935536      1\n",
              "1  85  58  41    21.770462  80.319644  7.038096  226.655537      1\n",
              "2  60  55  44    23.004459  82.320763  7.840207  263.964248      1\n",
              "3  74  35  40    26.491096  80.158363  6.980401  242.864034      1\n",
              "4  78  42  42    20.130175  81.604873  7.628473  262.717340      1"
            ]
          },
          "execution_count": 151,
          "metadata": {},
          "output_type": "execute_result"
        }
      ],
      "source": [
        "crop.head()"
      ]
    },
    {
      "cell_type": "code",
      "execution_count": 152,
      "metadata": {
        "colab": {
          "base_uri": "https://localhost:8080/"
        },
        "execution": {
          "iopub.execute_input": "2024-10-22T07:12:01.745081Z",
          "iopub.status.busy": "2024-10-22T07:12:01.744653Z",
          "iopub.status.idle": "2024-10-22T07:12:01.754775Z",
          "shell.execute_reply": "2024-10-22T07:12:01.753373Z",
          "shell.execute_reply.started": "2024-10-22T07:12:01.745039Z"
        },
        "id": "sWbceCTDZHev",
        "outputId": "1c6617d7-9f01-4489-9671-c13a15973c63",
        "trusted": true
      },
      "outputs": [
        {
          "data": {
            "text/plain": [
              "array([ 1,  2,  3,  4,  5,  6,  7,  8,  9, 10, 11])"
            ]
          },
          "execution_count": 152,
          "metadata": {},
          "output_type": "execute_result"
        }
      ],
      "source": [
        "crop['label'].unique()"
      ]
    },
    {
      "cell_type": "code",
      "execution_count": 153,
      "metadata": {
        "colab": {
          "base_uri": "https://localhost:8080/",
          "height": 460
        },
        "execution": {
          "iopub.execute_input": "2024-10-22T07:12:05.249662Z",
          "iopub.status.busy": "2024-10-22T07:12:05.249217Z",
          "iopub.status.idle": "2024-10-22T07:12:05.260803Z",
          "shell.execute_reply": "2024-10-22T07:12:05.259641Z",
          "shell.execute_reply.started": "2024-10-22T07:12:05.249618Z"
        },
        "id": "YanCS6AJZHev",
        "outputId": "ff072ba7-77b3-4b65-c838-771a5b8d303c",
        "trusted": true
      },
      "outputs": [
        {
          "data": {
            "text/plain": [
              "label\n",
              "1     100\n",
              "2     100\n",
              "3     100\n",
              "4     100\n",
              "5     100\n",
              "6     100\n",
              "7     100\n",
              "8     100\n",
              "9     100\n",
              "10    100\n",
              "11    100\n",
              "Name: count, dtype: int64"
            ]
          },
          "execution_count": 153,
          "metadata": {},
          "output_type": "execute_result"
        }
      ],
      "source": [
        "crop['label'].value_counts()"
      ]
    },
    {
      "cell_type": "code",
      "execution_count": 154,
      "metadata": {
        "execution": {
          "iopub.execute_input": "2024-10-22T07:12:12.407607Z",
          "iopub.status.busy": "2024-10-22T07:12:12.407187Z",
          "iopub.status.idle": "2024-10-22T07:12:12.413927Z",
          "shell.execute_reply": "2024-10-22T07:12:12.412754Z",
          "shell.execute_reply.started": "2024-10-22T07:12:12.407542Z"
        },
        "id": "LOhcISy-ZHev",
        "trusted": true
      },
      "outputs": [],
      "source": [
        "X = crop.drop('label', axis=1)\n",
        "y = crop['label']"
      ]
    },
    {
      "cell_type": "code",
      "execution_count": 155,
      "metadata": {
        "colab": {
          "base_uri": "https://localhost:8080/",
          "height": 206
        },
        "execution": {
          "iopub.execute_input": "2024-10-22T07:12:14.192248Z",
          "iopub.status.busy": "2024-10-22T07:12:14.191827Z",
          "iopub.status.idle": "2024-10-22T07:12:14.207360Z",
          "shell.execute_reply": "2024-10-22T07:12:14.206042Z",
          "shell.execute_reply.started": "2024-10-22T07:12:14.192206Z"
        },
        "id": "kZIZyna0ZHew",
        "outputId": "60df9c04-c6ea-4a75-db6a-9edb3b3b001d",
        "trusted": true
      },
      "outputs": [
        {
          "data": {
            "text/html": [
              "<div>\n",
              "<style scoped>\n",
              "    .dataframe tbody tr th:only-of-type {\n",
              "        vertical-align: middle;\n",
              "    }\n",
              "\n",
              "    .dataframe tbody tr th {\n",
              "        vertical-align: top;\n",
              "    }\n",
              "\n",
              "    .dataframe thead th {\n",
              "        text-align: right;\n",
              "    }\n",
              "</style>\n",
              "<table border=\"1\" class=\"dataframe\">\n",
              "  <thead>\n",
              "    <tr style=\"text-align: right;\">\n",
              "      <th></th>\n",
              "      <th>N</th>\n",
              "      <th>P</th>\n",
              "      <th>K</th>\n",
              "      <th>temperature</th>\n",
              "      <th>humidity</th>\n",
              "      <th>ph</th>\n",
              "      <th>rainfall</th>\n",
              "    </tr>\n",
              "  </thead>\n",
              "  <tbody>\n",
              "    <tr>\n",
              "      <th>0</th>\n",
              "      <td>90</td>\n",
              "      <td>42</td>\n",
              "      <td>43</td>\n",
              "      <td>20.879744</td>\n",
              "      <td>82.002744</td>\n",
              "      <td>6.502985</td>\n",
              "      <td>202.935536</td>\n",
              "    </tr>\n",
              "    <tr>\n",
              "      <th>1</th>\n",
              "      <td>85</td>\n",
              "      <td>58</td>\n",
              "      <td>41</td>\n",
              "      <td>21.770462</td>\n",
              "      <td>80.319644</td>\n",
              "      <td>7.038096</td>\n",
              "      <td>226.655537</td>\n",
              "    </tr>\n",
              "    <tr>\n",
              "      <th>2</th>\n",
              "      <td>60</td>\n",
              "      <td>55</td>\n",
              "      <td>44</td>\n",
              "      <td>23.004459</td>\n",
              "      <td>82.320763</td>\n",
              "      <td>7.840207</td>\n",
              "      <td>263.964248</td>\n",
              "    </tr>\n",
              "    <tr>\n",
              "      <th>3</th>\n",
              "      <td>74</td>\n",
              "      <td>35</td>\n",
              "      <td>40</td>\n",
              "      <td>26.491096</td>\n",
              "      <td>80.158363</td>\n",
              "      <td>6.980401</td>\n",
              "      <td>242.864034</td>\n",
              "    </tr>\n",
              "    <tr>\n",
              "      <th>4</th>\n",
              "      <td>78</td>\n",
              "      <td>42</td>\n",
              "      <td>42</td>\n",
              "      <td>20.130175</td>\n",
              "      <td>81.604873</td>\n",
              "      <td>7.628473</td>\n",
              "      <td>262.717340</td>\n",
              "    </tr>\n",
              "  </tbody>\n",
              "</table>\n",
              "</div>"
            ],
            "text/plain": [
              "    N   P   K  temperature   humidity        ph    rainfall\n",
              "0  90  42  43    20.879744  82.002744  6.502985  202.935536\n",
              "1  85  58  41    21.770462  80.319644  7.038096  226.655537\n",
              "2  60  55  44    23.004459  82.320763  7.840207  263.964248\n",
              "3  74  35  40    26.491096  80.158363  6.980401  242.864034\n",
              "4  78  42  42    20.130175  81.604873  7.628473  262.717340"
            ]
          },
          "execution_count": 155,
          "metadata": {},
          "output_type": "execute_result"
        }
      ],
      "source": [
        "X.head()"
      ]
    },
    {
      "cell_type": "code",
      "execution_count": 156,
      "metadata": {
        "colab": {
          "base_uri": "https://localhost:8080/",
          "height": 241
        },
        "execution": {
          "iopub.execute_input": "2024-10-22T07:12:17.046719Z",
          "iopub.status.busy": "2024-10-22T07:12:17.046204Z",
          "iopub.status.idle": "2024-10-22T07:12:17.054911Z",
          "shell.execute_reply": "2024-10-22T07:12:17.053625Z",
          "shell.execute_reply.started": "2024-10-22T07:12:17.046674Z"
        },
        "id": "6u0jBW4cZHew",
        "outputId": "48b14bc2-21be-402f-f4a5-7485d8e2c130",
        "trusted": true
      },
      "outputs": [
        {
          "data": {
            "text/plain": [
              "0    1\n",
              "1    1\n",
              "2    1\n",
              "3    1\n",
              "4    1\n",
              "Name: label, dtype: int64"
            ]
          },
          "execution_count": 156,
          "metadata": {},
          "output_type": "execute_result"
        }
      ],
      "source": [
        "y.head()"
      ]
    },
    {
      "cell_type": "code",
      "execution_count": 157,
      "metadata": {
        "execution": {
          "iopub.execute_input": "2024-10-22T07:12:19.176749Z",
          "iopub.status.busy": "2024-10-22T07:12:19.176338Z",
          "iopub.status.idle": "2024-10-22T07:12:19.396274Z",
          "shell.execute_reply": "2024-10-22T07:12:19.394887Z",
          "shell.execute_reply.started": "2024-10-22T07:12:19.176709Z"
        },
        "id": "-KJQKlIgZHew",
        "trusted": true
      },
      "outputs": [],
      "source": [
        "from sklearn.model_selection import train_test_split\n",
        "X_train, X_test, y_train, y_test = train_test_split(X, y, test_size=0.2, random_state=42)"
      ]
    },
    {
      "cell_type": "code",
      "execution_count": 158,
      "metadata": {
        "colab": {
          "base_uri": "https://localhost:8080/"
        },
        "execution": {
          "iopub.execute_input": "2024-10-22T07:12:21.201520Z",
          "iopub.status.busy": "2024-10-22T07:12:21.200994Z",
          "iopub.status.idle": "2024-10-22T07:12:21.209410Z",
          "shell.execute_reply": "2024-10-22T07:12:21.208296Z",
          "shell.execute_reply.started": "2024-10-22T07:12:21.201466Z"
        },
        "id": "JWPhbHubZHew",
        "outputId": "5bb2926d-be12-4a77-a341-1db861e6db79",
        "trusted": true
      },
      "outputs": [
        {
          "data": {
            "text/plain": [
              "(880, 7)"
            ]
          },
          "execution_count": 158,
          "metadata": {},
          "output_type": "execute_result"
        }
      ],
      "source": [
        "X_train.shape"
      ]
    },
    {
      "cell_type": "code",
      "execution_count": 159,
      "metadata": {
        "colab": {
          "base_uri": "https://localhost:8080/"
        },
        "execution": {
          "iopub.execute_input": "2024-10-22T07:12:23.077957Z",
          "iopub.status.busy": "2024-10-22T07:12:23.077517Z",
          "iopub.status.idle": "2024-10-22T07:12:23.085225Z",
          "shell.execute_reply": "2024-10-22T07:12:23.083911Z",
          "shell.execute_reply.started": "2024-10-22T07:12:23.077917Z"
        },
        "id": "qTPJUHr3ZHex",
        "outputId": "df7936dc-773e-42c5-f11c-d199090cf164",
        "trusted": true
      },
      "outputs": [
        {
          "data": {
            "text/plain": [
              "(220, 7)"
            ]
          },
          "execution_count": 159,
          "metadata": {},
          "output_type": "execute_result"
        }
      ],
      "source": [
        "X_test.shape"
      ]
    },
    {
      "cell_type": "code",
      "execution_count": 160,
      "metadata": {
        "execution": {
          "iopub.execute_input": "2024-10-22T07:12:26.096304Z",
          "iopub.status.busy": "2024-10-22T07:12:26.095886Z",
          "iopub.status.idle": "2024-10-22T07:12:26.108615Z",
          "shell.execute_reply": "2024-10-22T07:12:26.107171Z",
          "shell.execute_reply.started": "2024-10-22T07:12:26.096263Z"
        },
        "id": "CI-rSraiZHex",
        "trusted": true
      },
      "outputs": [],
      "source": [
        "from sklearn.preprocessing import MinMaxScaler\n",
        "mx = MinMaxScaler()\n",
        "X_train = mx.fit_transform(X_train)\n",
        "X_test = mx.transform(X_test)"
      ]
    },
    {
      "cell_type": "code",
      "execution_count": 161,
      "metadata": {
        "colab": {
          "base_uri": "https://localhost:8080/"
        },
        "execution": {
          "iopub.execute_input": "2024-10-22T07:12:28.143624Z",
          "iopub.status.busy": "2024-10-22T07:12:28.143184Z",
          "iopub.status.idle": "2024-10-22T07:12:28.151445Z",
          "shell.execute_reply": "2024-10-22T07:12:28.150218Z",
          "shell.execute_reply.started": "2024-10-22T07:12:28.143576Z"
        },
        "id": "3HGUCdzTZHex",
        "outputId": "3c9e44a3-e259-4f62-d9a5-68bd024deb0e",
        "trusted": true
      },
      "outputs": [
        {
          "data": {
            "text/plain": [
              "array([[0.77142857, 0.93333333, 0.95      , ..., 0.68505599, 0.37307596,\n",
              "        0.2402247 ],\n",
              "       [0.82857143, 0.84444444, 1.        , ..., 0.76599537, 0.40377399,\n",
              "        0.22412419],\n",
              "       [0.16428571, 0.55555556, 0.025     , ..., 0.56467591, 0.17319709,\n",
              "        0.56767755],\n",
              "       ...,\n",
              "       [0.62142857, 0.2       , 0.325     , ..., 0.45795966, 0.70890637,\n",
              "        0.60025646],\n",
              "       [0.76428571, 0.32222222, 0.425     , ..., 0.51756355, 0.65168875,\n",
              "        0.53934299],\n",
              "       [0.14285714, 0.26666667, 0.3       , ..., 0.89047533, 0.44148321,\n",
              "        0.46300804]])"
            ]
          },
          "execution_count": 161,
          "metadata": {},
          "output_type": "execute_result"
        }
      ],
      "source": [
        "X_train"
      ]
    },
    {
      "cell_type": "code",
      "execution_count": 162,
      "metadata": {
        "execution": {
          "iopub.execute_input": "2024-10-22T07:12:30.846116Z",
          "iopub.status.busy": "2024-10-22T07:12:30.845700Z",
          "iopub.status.idle": "2024-10-22T07:12:31.156053Z",
          "shell.execute_reply": "2024-10-22T07:12:31.154819Z",
          "shell.execute_reply.started": "2024-10-22T07:12:30.846070Z"
        },
        "id": "LlZ86L-LZHex",
        "trusted": true
      },
      "outputs": [],
      "source": [
        "from sklearn.linear_model import LogisticRegression\n",
        "from sklearn.naive_bayes import GaussianNB\n",
        "from sklearn.svm import SVC\n",
        "from sklearn.neighbors import KNeighborsClassifier\n",
        "from sklearn.tree import DecisionTreeClassifier, ExtraTreeClassifier\n",
        "from sklearn.ensemble import RandomForestClassifier, BaggingClassifier, GradientBoostingClassifier, AdaBoostClassifier\n",
        "from sklearn.metrics import accuracy_score"
      ]
    },
    {
      "cell_type": "code",
      "execution_count": 163,
      "metadata": {
        "execution": {
          "iopub.execute_input": "2024-10-22T07:12:38.198897Z",
          "iopub.status.busy": "2024-10-22T07:12:38.198471Z",
          "iopub.status.idle": "2024-10-22T07:12:38.205529Z",
          "shell.execute_reply": "2024-10-22T07:12:38.204118Z",
          "shell.execute_reply.started": "2024-10-22T07:12:38.198855Z"
        },
        "id": "UV5DIsnJZHey",
        "trusted": true
      },
      "outputs": [],
      "source": [
        "models = {\n",
        "    'LogisticRegression': LogisticRegression(),\n",
        "    'GaussianNB': GaussianNB(),\n",
        "    'SVC': SVC(),\n",
        "    'KNeighborsClassifier': KNeighborsClassifier(),\n",
        "    'DecisionTreeClassifier': DecisionTreeClassifier(),\n",
        "    'ExtraTreeClassifier': ExtraTreeClassifier(),\n",
        "    'RandomForestClassifier': RandomForestClassifier(),\n",
        "    'BaggingClassifier': BaggingClassifier(),\n",
        "    'GradientBoostingClassifier': GradientBoostingClassifier(),\n",
        "    'AdaBoostClassifier': AdaBoostClassifier()\n",
        "}"
      ]
    },
    {
      "cell_type": "code",
      "execution_count": 164,
      "metadata": {
        "colab": {
          "base_uri": "https://localhost:8080/"
        },
        "execution": {
          "iopub.execute_input": "2024-10-22T07:12:40.719681Z",
          "iopub.status.busy": "2024-10-22T07:12:40.719238Z",
          "iopub.status.idle": "2024-10-22T07:12:44.162806Z",
          "shell.execute_reply": "2024-10-22T07:12:44.161613Z",
          "shell.execute_reply.started": "2024-10-22T07:12:40.719637Z"
        },
        "id": "eiaGkgkEZHey",
        "outputId": "e8be1922-538c-4ef9-e578-fda5448d846c",
        "trusted": true
      },
      "outputs": [
        {
          "name": "stdout",
          "output_type": "stream",
          "text": [
            "LogisticRegression mode with accuracy: 0.9772727272727273\n",
            "GaussianNB mode with accuracy: 0.9954545454545455\n",
            "SVC mode with accuracy: 1.0\n",
            "KNeighborsClassifier mode with accuracy: 0.9954545454545455\n",
            "DecisionTreeClassifier mode with accuracy: 0.9954545454545455\n",
            "ExtraTreeClassifier mode with accuracy: 0.9272727272727272\n",
            "RandomForestClassifier mode with accuracy: 0.9954545454545455\n",
            "BaggingClassifier mode with accuracy: 0.9954545454545455\n",
            "GradientBoostingClassifier mode with accuracy: 1.0\n",
            "AdaBoostClassifier mode with accuracy: 0.37272727272727274\n"
          ]
        }
      ],
      "source": [
        "for name, model in models.items():\n",
        "    model.fit(X_train, y_train)\n",
        "    y_pred = model.predict(X_test)\n",
        "    score = accuracy_score(y_test, y_pred)\n",
        "    print(f\"{name} mode with accuracy: {score}\")"
      ]
    },
    {
      "cell_type": "code",
      "execution_count": 165,
      "metadata": {
        "colab": {
          "base_uri": "https://localhost:8080/"
        },
        "execution": {
          "iopub.execute_input": "2024-10-22T07:12:49.407326Z",
          "iopub.status.busy": "2024-10-22T07:12:49.406897Z",
          "iopub.status.idle": "2024-10-22T07:12:49.653504Z",
          "shell.execute_reply": "2024-10-22T07:12:49.652387Z",
          "shell.execute_reply.started": "2024-10-22T07:12:49.407285Z"
        },
        "id": "G_4z5XxSZHey",
        "outputId": "bf2bb515-4d8b-4c2d-8de0-fd4a7429f89f",
        "trusted": true
      },
      "outputs": [
        {
          "data": {
            "text/plain": [
              "0.9954545454545455"
            ]
          },
          "execution_count": 165,
          "metadata": {},
          "output_type": "execute_result"
        }
      ],
      "source": [
        "randclf = RandomForestClassifier()\n",
        "randclf.fit(X_train, y_train)\n",
        "y_pred = randclf.predict(X_test)\n",
        "accuracy_score(y_test, y_pred)"
      ]
    },
    {
      "cell_type": "code",
      "execution_count": 166,
      "metadata": {},
      "outputs": [
        {
          "data": {
            "text/plain": [
              "0.9954545454545455"
            ]
          },
          "execution_count": 166,
          "metadata": {},
          "output_type": "execute_result"
        }
      ],
      "source": [
        "knn= KNeighborsClassifier()\n",
        "knn.fit(X_train, y_train)\n",
        "y_pred=knn.predict(X_test)\n",
        "accuracy_score(y_test,y_pred)"
      ]
    },
    {
      "cell_type": "code",
      "execution_count": 167,
      "metadata": {
        "colab": {
          "base_uri": "https://localhost:8080/"
        },
        "execution": {
          "iopub.execute_input": "2024-10-22T07:12:52.095899Z",
          "iopub.status.busy": "2024-10-22T07:12:52.094684Z",
          "iopub.status.idle": "2024-10-22T07:12:52.105111Z",
          "shell.execute_reply": "2024-10-22T07:12:52.103527Z",
          "shell.execute_reply.started": "2024-10-22T07:12:52.095848Z"
        },
        "id": "OQGBImCJZHez",
        "outputId": "7594ad4a-8594-4c4b-a7f1-874ad5bf1853",
        "trusted": true
      },
      "outputs": [
        {
          "data": {
            "text/plain": [
              "Index(['N', 'P', 'K', 'temperature', 'humidity', 'ph', 'rainfall', 'label'], dtype='object')"
            ]
          },
          "execution_count": 167,
          "metadata": {},
          "output_type": "execute_result"
        }
      ],
      "source": [
        "crop.columns"
      ]
    },
    {
      "cell_type": "code",
      "execution_count": 168,
      "metadata": {
        "execution": {
          "iopub.execute_input": "2024-10-22T07:12:54.472940Z",
          "iopub.status.busy": "2024-10-22T07:12:54.472504Z",
          "iopub.status.idle": "2024-10-22T07:12:54.479041Z",
          "shell.execute_reply": "2024-10-22T07:12:54.477892Z",
          "shell.execute_reply.started": "2024-10-22T07:12:54.472900Z"
        },
        "id": "lmIdC79rZHez",
        "trusted": true
      },
      "outputs": [],
      "source": [
        "def recommendation(N, P, K, temperature, humidity, ph, rainfall):\n",
        "    features = np.array([[N, P, K, temperature, humidity, ph, rainfall]])\n",
        "    mx_features = mx.transform(features)\n",
        "    prediction = knn.predict(mx_features).reshape(1,-1)\n",
        "    return prediction[0]"
      ]
    },
    {
      "cell_type": "code",
      "execution_count": 169,
      "metadata": {
        "colab": {
          "base_uri": "https://localhost:8080/",
          "height": 206
        },
        "execution": {
          "iopub.execute_input": "2024-10-22T07:12:57.406877Z",
          "iopub.status.busy": "2024-10-22T07:12:57.405766Z",
          "iopub.status.idle": "2024-10-22T07:12:57.420526Z",
          "shell.execute_reply": "2024-10-22T07:12:57.419367Z",
          "shell.execute_reply.started": "2024-10-22T07:12:57.406825Z"
        },
        "id": "XTJMBXGbZHez",
        "outputId": "bf27056a-162a-49dd-9b32-e1bc67332821",
        "trusted": true
      },
      "outputs": [
        {
          "data": {
            "text/html": [
              "<div>\n",
              "<style scoped>\n",
              "    .dataframe tbody tr th:only-of-type {\n",
              "        vertical-align: middle;\n",
              "    }\n",
              "\n",
              "    .dataframe tbody tr th {\n",
              "        vertical-align: top;\n",
              "    }\n",
              "\n",
              "    .dataframe thead th {\n",
              "        text-align: right;\n",
              "    }\n",
              "</style>\n",
              "<table border=\"1\" class=\"dataframe\">\n",
              "  <thead>\n",
              "    <tr style=\"text-align: right;\">\n",
              "      <th></th>\n",
              "      <th>N</th>\n",
              "      <th>P</th>\n",
              "      <th>K</th>\n",
              "      <th>temperature</th>\n",
              "      <th>humidity</th>\n",
              "      <th>ph</th>\n",
              "      <th>rainfall</th>\n",
              "      <th>label</th>\n",
              "    </tr>\n",
              "  </thead>\n",
              "  <tbody>\n",
              "    <tr>\n",
              "      <th>0</th>\n",
              "      <td>90</td>\n",
              "      <td>42</td>\n",
              "      <td>43</td>\n",
              "      <td>20.879744</td>\n",
              "      <td>82.002744</td>\n",
              "      <td>6.502985</td>\n",
              "      <td>202.935536</td>\n",
              "      <td>1</td>\n",
              "    </tr>\n",
              "    <tr>\n",
              "      <th>1</th>\n",
              "      <td>85</td>\n",
              "      <td>58</td>\n",
              "      <td>41</td>\n",
              "      <td>21.770462</td>\n",
              "      <td>80.319644</td>\n",
              "      <td>7.038096</td>\n",
              "      <td>226.655537</td>\n",
              "      <td>1</td>\n",
              "    </tr>\n",
              "    <tr>\n",
              "      <th>2</th>\n",
              "      <td>60</td>\n",
              "      <td>55</td>\n",
              "      <td>44</td>\n",
              "      <td>23.004459</td>\n",
              "      <td>82.320763</td>\n",
              "      <td>7.840207</td>\n",
              "      <td>263.964248</td>\n",
              "      <td>1</td>\n",
              "    </tr>\n",
              "    <tr>\n",
              "      <th>3</th>\n",
              "      <td>74</td>\n",
              "      <td>35</td>\n",
              "      <td>40</td>\n",
              "      <td>26.491096</td>\n",
              "      <td>80.158363</td>\n",
              "      <td>6.980401</td>\n",
              "      <td>242.864034</td>\n",
              "      <td>1</td>\n",
              "    </tr>\n",
              "    <tr>\n",
              "      <th>4</th>\n",
              "      <td>78</td>\n",
              "      <td>42</td>\n",
              "      <td>42</td>\n",
              "      <td>20.130175</td>\n",
              "      <td>81.604873</td>\n",
              "      <td>7.628473</td>\n",
              "      <td>262.717340</td>\n",
              "      <td>1</td>\n",
              "    </tr>\n",
              "  </tbody>\n",
              "</table>\n",
              "</div>"
            ],
            "text/plain": [
              "    N   P   K  temperature   humidity        ph    rainfall  label\n",
              "0  90  42  43    20.879744  82.002744  6.502985  202.935536      1\n",
              "1  85  58  41    21.770462  80.319644  7.038096  226.655537      1\n",
              "2  60  55  44    23.004459  82.320763  7.840207  263.964248      1\n",
              "3  74  35  40    26.491096  80.158363  6.980401  242.864034      1\n",
              "4  78  42  42    20.130175  81.604873  7.628473  262.717340      1"
            ]
          },
          "execution_count": 169,
          "metadata": {},
          "output_type": "execute_result"
        }
      ],
      "source": [
        "crop.head()"
      ]
    },
    {
      "cell_type": "code",
      "execution_count": 170,
      "metadata": {
        "colab": {
          "base_uri": "https://localhost:8080/"
        },
        "execution": {
          "iopub.execute_input": "2024-10-22T07:14:09.400888Z",
          "iopub.status.busy": "2024-10-22T07:14:09.400425Z",
          "iopub.status.idle": "2024-10-22T07:14:09.421868Z",
          "shell.execute_reply": "2024-10-22T07:14:09.420629Z",
          "shell.execute_reply.started": "2024-10-22T07:14:09.400845Z"
        },
        "id": "fHMmBzSIZHez",
        "outputId": "0665a501-e9dd-4f1e-c228-bbf4b5018a0d",
        "trusted": true
      },
      "outputs": [
        {
          "name": "stdout",
          "output_type": "stream",
          "text": [
            "Recommended crop: coconut\n"
          ]
        }
      ],
      "source": [
        "N = 40   \n",
        "P = 16\n",
        "K = 36\n",
        "temperature = 29.879744\n",
        "humidity = 86.002744\n",
        "ph = 6.502985\n",
        "rainfall = 89\n",
        "rec=recommendation(N, P, K, temperature, humidity, ph, rainfall)\n",
        "cropname=list(crop_dict.keys())[list(crop_dict.values()).index(rec)]\n",
        "print(f'Recommended crop: {cropname}')"
      ]
    },
    {
      "cell_type": "code",
      "execution_count": 173,
      "metadata": {
        "execution": {
          "iopub.execute_input": "2024-10-22T07:13:03.774450Z",
          "iopub.status.busy": "2024-10-22T07:13:03.774025Z",
          "iopub.status.idle": "2024-10-22T07:13:03.786640Z",
          "shell.execute_reply": "2024-10-22T07:13:03.785579Z",
          "shell.execute_reply.started": "2024-10-22T07:13:03.774406Z"
        },
        "id": "u-cQAEUmZHez",
        "trusted": true
      },
      "outputs": [
        {
          "data": {
            "text/plain": [
              "['scaler.pkl']"
            ]
          },
          "execution_count": 173,
          "metadata": {},
          "output_type": "execute_result"
        }
      ],
      "source": [
        "#import pickle\n",
        "#from sklearn.preprocessing import StandardScaler\n",
        "#pickle.dump(knn, open('model.pkl', 'wb'))\n",
        "#pickle.dump(mx, open('minmaxscaler.pkl', 'wb'))\n",
        "\n"
      ]
    }
  ],
  "metadata": {
    "colab": {
      "provenance": []
    },
    "kaggle": {
      "accelerator": "tpu1vmV38",
      "dataSources": [
        {
          "datasetId": 1046158,
          "sourceId": 1760012,
          "sourceType": "datasetVersion"
        }
      ],
      "dockerImageVersionId": 30763,
      "isGpuEnabled": false,
      "isInternetEnabled": true,
      "language": "python",
      "sourceType": "notebook"
    },
    "kernelspec": {
      "display_name": "Python 3",
      "language": "python",
      "name": "python3"
    },
    "language_info": {
      "codemirror_mode": {
        "name": "ipython",
        "version": 3
      },
      "file_extension": ".py",
      "mimetype": "text/x-python",
      "name": "python",
      "nbconvert_exporter": "python",
      "pygments_lexer": "ipython3",
      "version": "3.12.5"
    }
  },
  "nbformat": 4,
  "nbformat_minor": 0
}
